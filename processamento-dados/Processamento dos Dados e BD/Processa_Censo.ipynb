{
 "cells": [
  {
   "cell_type": "code",
   "execution_count": 1,
   "metadata": {},
   "outputs": [],
   "source": [
    "import pandas as pd"
   ]
  },
  {
   "cell_type": "markdown",
   "metadata": {},
   "source": [
    "# Colunas alvos do Censo da Educação Superior"
   ]
  },
  {
   "cell_type": "code",
   "execution_count": 2,
   "metadata": {},
   "outputs": [],
   "source": [
    "colunas_ies = ['NO_REGIAO_IES',\n",
    "'CO_REGIAO_IES',\n",
    "'NO_UF_IES',\n",
    "'SG_UF_IES',\n",
    "'CO_UF_IES',\n",
    "'NO_MUNICIPIO_IES',\n",
    "'CO_MUNICIPIO_IES',\n",
    "'TP_ORGANIZACAO_ACADEMICA',\n",
    "'TP_CATEGORIA_ADMINISTRATIVA',\n",
    "'CO_IES',\n",
    "'NO_IES',\n",
    "'SG_IES',\n",
    "'QT_DOCENTE_TOTAL',\n",
    "'QT_DOCENTE_EXE',\n",
    "'DOC_EX_FEMI',\n",
    "'DOC_EX_MASC',\n",
    "'DOC_EX_SEM_GRAD',\n",
    "'DOC_EX_GRAD',\n",
    "'DOC_EX_ESP',\n",
    "'DOC_EX_MEST',\n",
    "'DOC_EX_DOUT',\n",
    "'IN_ACESSO_PORTAL_CAPES',\n",
    "'IN_ACESSO_OUTRAS_BASES',\n",
    "'IN_ASSINA_OUTRA_BASE',\n",
    "'IN_REPOSITORIO_INSTITUCIONAL',\n",
    "'IN_BUSCA_INTEGRADA',\n",
    "'IN_SERVICO_INTERNET',\n",
    "'IN_PARTICIPA_REDE_SOCIAL',\n",
    "'IN_CATALOGO_ONLINE']"
   ]
  },
  {
   "cell_type": "code",
   "execution_count": 3,
   "metadata": {},
   "outputs": [],
   "source": [
    "coluna_cursos = ['CO_IES',\n",
    "'NO_CINE_ROTULO',\n",
    "'CO_CINE_ROTULO',\n",
    "'CO_CINE_AREA_GERAL',\n",
    "'NO_CINE_AREA_GERAL',\n",
    "'CO_CINE_AREA_ESPECIFICA',\n",
    "'NO_CINE_AREA_ESPECIFICA',\n",
    "'CO_CINE_AREA_DETALHADA',\n",
    "'NO_CINE_AREA_DETALHADA',\n",
    "'TP_GRAU_ACADEMICO',\n",
    "'TP_MODALIDADE_ENSINO',\n",
    "'QT_VAGA_TOTAL',\n",
    "'QT_VAGA_TOTAL_DIURNO',\n",
    "'QT_VAGA_TOTAL_NOTURNO',\n",
    "'QT_VAGA_TOTAL_EAD',\n",
    "'QT_MAT',\n",
    "'QT_CONC']"
   ]
  },
  {
   "cell_type": "code",
   "execution_count": 4,
   "metadata": {},
   "outputs": [
    {
     "name": "stderr",
     "output_type": "stream",
     "text": [
      "C:\\Users\\abili\\AppData\\Local\\Temp\\ipykernel_16264\\2885872833.py:1: DtypeWarning: Columns (4) have mixed types. Specify dtype option on import or set low_memory=False.\n",
      "  base_curso = pd.read_csv('data\\Microdados_Educacao_Superior_2020\\dados\\CADASTRO_CURSOS_2020.CSV',sep=';',encoding='ISO-8859-1')\n"
     ]
    }
   ],
   "source": [
    "base_curso = pd.read_csv('data\\Microdados_Educacao_Superior_2020\\dados\\CADASTRO_CURSOS_2020.CSV',sep=';',encoding='ISO-8859-1')"
   ]
  },
  {
   "cell_type": "code",
   "execution_count": 5,
   "metadata": {},
   "outputs": [],
   "source": [
    "base_ies = pd.read_csv('data\\Microdados_Educacao_Superior_2020\\dados\\CADASTRO_IES_2020.CSV',sep=';',encoding='ISO-8859-1')"
   ]
  },
  {
   "cell_type": "code",
   "execution_count": 6,
   "metadata": {},
   "outputs": [],
   "source": [
    "base_curso = base_curso.loc[:,coluna_cursos]\n",
    "\n"
   ]
  },
  {
   "cell_type": "code",
   "execution_count": 14,
   "metadata": {},
   "outputs": [
    {
     "data": {
      "text/plain": [
       "(2457, 29)"
      ]
     },
     "execution_count": 14,
     "metadata": {},
     "output_type": "execute_result"
    }
   ],
   "source": [
    "base_ies.shape"
   ]
  },
  {
   "cell_type": "code",
   "execution_count": 7,
   "metadata": {},
   "outputs": [],
   "source": [
    "base_ies = base_ies.loc[:,colunas_ies]"
   ]
  },
  {
   "cell_type": "code",
   "execution_count": 8,
   "metadata": {},
   "outputs": [
    {
     "data": {
      "text/plain": [
       "CO_IES                       0\n",
       "NO_CINE_ROTULO               0\n",
       "CO_CINE_ROTULO               0\n",
       "CO_CINE_AREA_GERAL           0\n",
       "NO_CINE_AREA_GERAL           0\n",
       "CO_CINE_AREA_ESPECIFICA      0\n",
       "NO_CINE_AREA_ESPECIFICA      0\n",
       "CO_CINE_AREA_DETALHADA       0\n",
       "NO_CINE_AREA_DETALHADA       0\n",
       "TP_GRAU_ACADEMICO          170\n",
       "TP_MODALIDADE_ENSINO         0\n",
       "QT_VAGA_TOTAL                0\n",
       "QT_VAGA_TOTAL_DIURNO         0\n",
       "QT_VAGA_TOTAL_NOTURNO        0\n",
       "QT_VAGA_TOTAL_EAD            0\n",
       "QT_MAT                       0\n",
       "QT_CONC                      0\n",
       "dtype: int64"
      ]
     },
     "execution_count": 8,
     "metadata": {},
     "output_type": "execute_result"
    }
   ],
   "source": [
    "base_curso.isnull().sum()"
   ]
  },
  {
   "cell_type": "code",
   "execution_count": 10,
   "metadata": {},
   "outputs": [
    {
     "data": {
      "text/plain": [
       "NO_REGIAO_IES                     0\n",
       "CO_REGIAO_IES                     0\n",
       "NO_UF_IES                         0\n",
       "SG_UF_IES                         0\n",
       "CO_UF_IES                         0\n",
       "NO_MUNICIPIO_IES                  0\n",
       "CO_MUNICIPIO_IES                  0\n",
       "TP_ORGANIZACAO_ACADEMICA          0\n",
       "TP_CATEGORIA_ADMINISTRATIVA       0\n",
       "CO_IES                            0\n",
       "NO_IES                            0\n",
       "SG_IES                          411\n",
       "QT_DOCENTE_TOTAL                  0\n",
       "QT_DOCENTE_EXE                    0\n",
       "DOC_EX_FEMI                       0\n",
       "DOC_EX_MASC                       0\n",
       "DOC_EX_SEM_GRAD                   0\n",
       "DOC_EX_GRAD                       0\n",
       "DOC_EX_ESP                        0\n",
       "DOC_EX_MEST                       0\n",
       "DOC_EX_DOUT                       0\n",
       "IN_ACESSO_PORTAL_CAPES            0\n",
       "IN_ACESSO_OUTRAS_BASES            0\n",
       "IN_ASSINA_OUTRA_BASE              0\n",
       "IN_REPOSITORIO_INSTITUCIONAL      0\n",
       "IN_BUSCA_INTEGRADA                0\n",
       "IN_SERVICO_INTERNET               0\n",
       "IN_PARTICIPA_REDE_SOCIAL          0\n",
       "IN_CATALOGO_ONLINE                0\n",
       "dtype: int64"
      ]
     },
     "execution_count": 10,
     "metadata": {},
     "output_type": "execute_result"
    }
   ],
   "source": [
    "base_ies.isnull().sum()"
   ]
  },
  {
   "cell_type": "markdown",
   "metadata": {},
   "source": [
    "## Exportando Bases Alvo"
   ]
  },
  {
   "cell_type": "code",
   "execution_count": 15,
   "metadata": {},
   "outputs": [],
   "source": [
    "base_curso.to_csv('bases_processadas/censo_curso_2020.csv',index=False)\n",
    "base_ies.to_csv('bases_processadas/censo_ies_2020.csv',index=False)"
   ]
  },
  {
   "cell_type": "code",
   "execution_count": null,
   "metadata": {},
   "outputs": [],
   "source": []
  }
 ],
 "metadata": {
  "interpreter": {
   "hash": "5ac353603ba3ad4719944d1c76c0eb9f502af835d92bbe0437298e188d4983a6"
  },
  "kernelspec": {
   "display_name": "Python 3.9.9 ('web_project': venv)",
   "language": "python",
   "name": "python3"
  },
  "language_info": {
   "codemirror_mode": {
    "name": "ipython",
    "version": 3
   },
   "file_extension": ".py",
   "mimetype": "text/x-python",
   "name": "python",
   "nbconvert_exporter": "python",
   "pygments_lexer": "ipython3",
   "version": "3.9.9"
  },
  "orig_nbformat": 4
 },
 "nbformat": 4,
 "nbformat_minor": 2
}
