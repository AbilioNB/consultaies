{
 "cells": [
  {
   "cell_type": "code",
   "execution_count": 1,
   "metadata": {},
   "outputs": [],
   "source": [
    "import pandas as pd"
   ]
  },
  {
   "cell_type": "code",
   "execution_count": 2,
   "metadata": {},
   "outputs": [],
   "source": [
    "grupo_2017 = pd.read_excel('data\\inep_indicadores\\conceito_enade_2017.xlsx')\n",
    "grupo_2018 = pd.read_excel('data\\inep_indicadores\\conceito_enade_2018.xlsx')\n",
    "grupo_2019 = pd.read_excel('data\\inep_indicadores\\Conceito_Enade_2019.xlsx')"
   ]
  },
  {
   "cell_type": "code",
   "execution_count": 3,
   "metadata": {},
   "outputs": [
    {
     "data": {
      "text/plain": [
       "Index(['Ano', 'Código da Área', 'Área de Avaliação', 'Código da IES',\n",
       "       'Nome da IES', 'Sigla da IES', 'Organização Acadêmica',\n",
       "       'Categoria Administrativa', 'Código do Curso', 'Modalidade de Ensino',\n",
       "       'Código do Município', 'Município do Curso', 'Sigla da UF',\n",
       "       'Nº de Concluintes Inscritos', 'Nº  de Concluintes Participantes',\n",
       "       'Nota Bruta - FG', 'Nota Padronizada - FG', 'Nota Bruta - CE',\n",
       "       'Nota Padronizada - CE', 'Conceito Enade (Contínuo)',\n",
       "       'Conceito Enade (Faixa)', 'Observação'],\n",
       "      dtype='object')"
      ]
     },
     "execution_count": 3,
     "metadata": {},
     "output_type": "execute_result"
    }
   ],
   "source": [
    "grupo_2017.columns"
   ]
  },
  {
   "cell_type": "code",
   "execution_count": 4,
   "metadata": {},
   "outputs": [],
   "source": [
    "colunas_2017 = ['Código da IES','Nome da IES','Código do Curso','Modalidade de Ensino', 'Conceito Enade (Contínuo)','Conceito Enade (Faixa)']"
   ]
  },
  {
   "cell_type": "code",
   "execution_count": 9,
   "metadata": {},
   "outputs": [],
   "source": [
    "grupo_2017 = grupo_2017.loc[:,colunas_2017]\n",
    "grupo_2018 = grupo_2018.loc[:,colunas_2017]\n",
    "grupo_2019 = grupo_2019.loc[:,colunas_2017]"
   ]
  },
  {
   "cell_type": "code",
   "execution_count": 11,
   "metadata": {},
   "outputs": [],
   "source": [
    "conceito_enade_trienio = pd.concat([grupo_2017, grupo_2018, grupo_2019])"
   ]
  },
  {
   "cell_type": "code",
   "execution_count": 14,
   "metadata": {},
   "outputs": [],
   "source": [
    "conceito_enade_trienio.to_csv('bases_processadas/conceito_enade_trienio.csv',index=False)"
   ]
  },
  {
   "cell_type": "code",
   "execution_count": null,
   "metadata": {},
   "outputs": [],
   "source": []
  }
 ],
 "metadata": {
  "interpreter": {
   "hash": "5ac353603ba3ad4719944d1c76c0eb9f502af835d92bbe0437298e188d4983a6"
  },
  "kernelspec": {
   "display_name": "Python 3.9.9 ('web_project': venv)",
   "language": "python",
   "name": "python3"
  },
  "language_info": {
   "codemirror_mode": {
    "name": "ipython",
    "version": 3
   },
   "file_extension": ".py",
   "mimetype": "text/x-python",
   "name": "python",
   "nbconvert_exporter": "python",
   "pygments_lexer": "ipython3",
   "version": "3.9.9"
  },
  "orig_nbformat": 4
 },
 "nbformat": 4,
 "nbformat_minor": 2
}
